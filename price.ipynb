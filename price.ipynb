{
 "cells": [
  {
   "cell_type": "code",
   "execution_count": 406,
   "id": "9bd713d8",
   "metadata": {},
   "outputs": [],
   "source": [
    "import numpy as np\n",
    "import pandas as pd\n",
    "import matplotlib.pyplot as plt\n",
    "import seaborn as sns"
   ]
  },
  {
   "cell_type": "markdown",
   "id": "98e413db",
   "metadata": {},
   "source": [
    "# Import Data"
   ]
  },
  {
   "cell_type": "code",
   "execution_count": 407,
   "id": "98cfd19d",
   "metadata": {},
   "outputs": [],
   "source": [
    "#Read data from file\n",
    "filename = 'listings.csv'\n",
    "df = pd.read_csv(filename)"
   ]
  },
  {
   "cell_type": "code",
   "execution_count": 408,
   "id": "02b5f446",
   "metadata": {},
   "outputs": [
    {
     "data": {
      "text/plain": [
       "(15854, 75)"
      ]
     },
     "execution_count": 408,
     "metadata": {},
     "output_type": "execute_result"
    }
   ],
   "source": [
    "df.shape"
   ]
  },
  {
   "cell_type": "code",
   "execution_count": 409,
   "id": "da0ca2d2",
   "metadata": {
    "scrolled": true
   },
   "outputs": [
    {
     "data": {
      "text/html": [
       "<div>\n",
       "<style scoped>\n",
       "    .dataframe tbody tr th:only-of-type {\n",
       "        vertical-align: middle;\n",
       "    }\n",
       "\n",
       "    .dataframe tbody tr th {\n",
       "        vertical-align: top;\n",
       "    }\n",
       "\n",
       "    .dataframe thead th {\n",
       "        text-align: right;\n",
       "    }\n",
       "</style>\n",
       "<table border=\"1\" class=\"dataframe\">\n",
       "  <thead>\n",
       "    <tr style=\"text-align: right;\">\n",
       "      <th></th>\n",
       "      <th>id</th>\n",
       "      <th>listing_url</th>\n",
       "      <th>scrape_id</th>\n",
       "      <th>last_scraped</th>\n",
       "      <th>source</th>\n",
       "      <th>name</th>\n",
       "      <th>description</th>\n",
       "      <th>neighborhood_overview</th>\n",
       "      <th>picture_url</th>\n",
       "      <th>host_id</th>\n",
       "      <th>...</th>\n",
       "      <th>review_scores_communication</th>\n",
       "      <th>review_scores_location</th>\n",
       "      <th>review_scores_value</th>\n",
       "      <th>license</th>\n",
       "      <th>instant_bookable</th>\n",
       "      <th>calculated_host_listings_count</th>\n",
       "      <th>calculated_host_listings_count_entire_homes</th>\n",
       "      <th>calculated_host_listings_count_private_rooms</th>\n",
       "      <th>calculated_host_listings_count_shared_rooms</th>\n",
       "      <th>reviews_per_month</th>\n",
       "    </tr>\n",
       "  </thead>\n",
       "  <tbody>\n",
       "    <tr>\n",
       "      <th>0</th>\n",
       "      <td>27934.0</td>\n",
       "      <td>https://www.airbnb.com/rooms/27934</td>\n",
       "      <td>2.020000e+13</td>\n",
       "      <td>12/28/2022</td>\n",
       "      <td>city scrape</td>\n",
       "      <td>Nice room with superb city view</td>\n",
       "      <td>Our cool and comfortable one bedroom apartment...</td>\n",
       "      <td>It is very center of Bangkok and easy access t...</td>\n",
       "      <td>https://a0.muscache.com/pictures/566374/23157b...</td>\n",
       "      <td>120437</td>\n",
       "      <td>...</td>\n",
       "      <td>4.91</td>\n",
       "      <td>4.66</td>\n",
       "      <td>4.75</td>\n",
       "      <td>NaN</td>\n",
       "      <td>f</td>\n",
       "      <td>2</td>\n",
       "      <td>2</td>\n",
       "      <td>0</td>\n",
       "      <td>0</td>\n",
       "      <td>0.50</td>\n",
       "    </tr>\n",
       "    <tr>\n",
       "      <th>1</th>\n",
       "      <td>941865.0</td>\n",
       "      <td>https://www.airbnb.com/rooms/941865</td>\n",
       "      <td>2.020000e+13</td>\n",
       "      <td>12/28/2022</td>\n",
       "      <td>city scrape</td>\n",
       "      <td>Suite Room 3 at MetroPoint</td>\n",
       "      <td>&lt;b&gt;The space&lt;/b&gt;&lt;br /&gt;MetroPoint Bangkok Hotel...</td>\n",
       "      <td>NaN</td>\n",
       "      <td>https://a0.muscache.com/pictures/13930311/1a1c...</td>\n",
       "      <td>610315</td>\n",
       "      <td>...</td>\n",
       "      <td>NaN</td>\n",
       "      <td>NaN</td>\n",
       "      <td>NaN</td>\n",
       "      <td>NaN</td>\n",
       "      <td>f</td>\n",
       "      <td>3</td>\n",
       "      <td>0</td>\n",
       "      <td>3</td>\n",
       "      <td>0</td>\n",
       "      <td>NaN</td>\n",
       "    </tr>\n",
       "    <tr>\n",
       "      <th>2</th>\n",
       "      <td>27979.0</td>\n",
       "      <td>https://www.airbnb.com/rooms/27979</td>\n",
       "      <td>2.020000e+13</td>\n",
       "      <td>12/28/2022</td>\n",
       "      <td>city scrape</td>\n",
       "      <td>Easy going landlord,easy place</td>\n",
       "      <td>&lt;b&gt;The space&lt;/b&gt;&lt;br /&gt;\"The village Condominium...</td>\n",
       "      <td>NaN</td>\n",
       "      <td>https://a0.muscache.com/pictures/106247594/1d6...</td>\n",
       "      <td>120541</td>\n",
       "      <td>...</td>\n",
       "      <td>NaN</td>\n",
       "      <td>NaN</td>\n",
       "      <td>NaN</td>\n",
       "      <td>NaN</td>\n",
       "      <td>f</td>\n",
       "      <td>2</td>\n",
       "      <td>1</td>\n",
       "      <td>1</td>\n",
       "      <td>0</td>\n",
       "      <td>NaN</td>\n",
       "    </tr>\n",
       "    <tr>\n",
       "      <th>3</th>\n",
       "      <td>28745.0</td>\n",
       "      <td>https://www.airbnb.com/rooms/28745</td>\n",
       "      <td>2.020000e+13</td>\n",
       "      <td>12/28/2022</td>\n",
       "      <td>city scrape</td>\n",
       "      <td>modern-style apartment in Bangkok</td>\n",
       "      <td>A modern-style apartment situated in a cool ne...</td>\n",
       "      <td>Ramkumheang neigbourhood - hip place with food...</td>\n",
       "      <td>https://a0.muscache.com/pictures/160369/92a7ec...</td>\n",
       "      <td>123784</td>\n",
       "      <td>...</td>\n",
       "      <td>NaN</td>\n",
       "      <td>NaN</td>\n",
       "      <td>NaN</td>\n",
       "      <td>NaN</td>\n",
       "      <td>f</td>\n",
       "      <td>1</td>\n",
       "      <td>0</td>\n",
       "      <td>1</td>\n",
       "      <td>0</td>\n",
       "      <td>NaN</td>\n",
       "    </tr>\n",
       "    <tr>\n",
       "      <th>4</th>\n",
       "      <td>35780.0</td>\n",
       "      <td>https://www.airbnb.com/rooms/35780</td>\n",
       "      <td>2.020000e+13</td>\n",
       "      <td>12/28/2022</td>\n",
       "      <td>city scrape</td>\n",
       "      <td>Spacious one bedroom at The Kris Condo Bldg. 3</td>\n",
       "      <td>Cozy and clean apartment at MRT Sutthisarn sta...</td>\n",
       "      <td>There is McDonald's, Au bon Pain and Max Value...</td>\n",
       "      <td>https://a0.muscache.com/pictures/89302e4b-b529...</td>\n",
       "      <td>153730</td>\n",
       "      <td>...</td>\n",
       "      <td>4.50</td>\n",
       "      <td>4.50</td>\n",
       "      <td>5.00</td>\n",
       "      <td>NaN</td>\n",
       "      <td>f</td>\n",
       "      <td>1</td>\n",
       "      <td>0</td>\n",
       "      <td>1</td>\n",
       "      <td>0</td>\n",
       "      <td>0.03</td>\n",
       "    </tr>\n",
       "  </tbody>\n",
       "</table>\n",
       "<p>5 rows × 75 columns</p>\n",
       "</div>"
      ],
      "text/plain": [
       "         id                          listing_url     scrape_id last_scraped  \\\n",
       "0   27934.0   https://www.airbnb.com/rooms/27934  2.020000e+13   12/28/2022   \n",
       "1  941865.0  https://www.airbnb.com/rooms/941865  2.020000e+13   12/28/2022   \n",
       "2   27979.0   https://www.airbnb.com/rooms/27979  2.020000e+13   12/28/2022   \n",
       "3   28745.0   https://www.airbnb.com/rooms/28745  2.020000e+13   12/28/2022   \n",
       "4   35780.0   https://www.airbnb.com/rooms/35780  2.020000e+13   12/28/2022   \n",
       "\n",
       "        source                                            name  \\\n",
       "0  city scrape                 Nice room with superb city view   \n",
       "1  city scrape                      Suite Room 3 at MetroPoint   \n",
       "2  city scrape                  Easy going landlord,easy place   \n",
       "3  city scrape               modern-style apartment in Bangkok   \n",
       "4  city scrape  Spacious one bedroom at The Kris Condo Bldg. 3   \n",
       "\n",
       "                                         description  \\\n",
       "0  Our cool and comfortable one bedroom apartment...   \n",
       "1  <b>The space</b><br />MetroPoint Bangkok Hotel...   \n",
       "2  <b>The space</b><br />\"The village Condominium...   \n",
       "3  A modern-style apartment situated in a cool ne...   \n",
       "4  Cozy and clean apartment at MRT Sutthisarn sta...   \n",
       "\n",
       "                               neighborhood_overview  \\\n",
       "0  It is very center of Bangkok and easy access t...   \n",
       "1                                                NaN   \n",
       "2                                                NaN   \n",
       "3  Ramkumheang neigbourhood - hip place with food...   \n",
       "4  There is McDonald's, Au bon Pain and Max Value...   \n",
       "\n",
       "                                         picture_url  host_id  ...  \\\n",
       "0  https://a0.muscache.com/pictures/566374/23157b...   120437  ...   \n",
       "1  https://a0.muscache.com/pictures/13930311/1a1c...   610315  ...   \n",
       "2  https://a0.muscache.com/pictures/106247594/1d6...   120541  ...   \n",
       "3  https://a0.muscache.com/pictures/160369/92a7ec...   123784  ...   \n",
       "4  https://a0.muscache.com/pictures/89302e4b-b529...   153730  ...   \n",
       "\n",
       "  review_scores_communication review_scores_location review_scores_value  \\\n",
       "0                        4.91                   4.66                4.75   \n",
       "1                         NaN                    NaN                 NaN   \n",
       "2                         NaN                    NaN                 NaN   \n",
       "3                         NaN                    NaN                 NaN   \n",
       "4                        4.50                   4.50                5.00   \n",
       "\n",
       "  license instant_bookable calculated_host_listings_count  \\\n",
       "0     NaN                f                              2   \n",
       "1     NaN                f                              3   \n",
       "2     NaN                f                              2   \n",
       "3     NaN                f                              1   \n",
       "4     NaN                f                              1   \n",
       "\n",
       "  calculated_host_listings_count_entire_homes  \\\n",
       "0                                           2   \n",
       "1                                           0   \n",
       "2                                           1   \n",
       "3                                           0   \n",
       "4                                           0   \n",
       "\n",
       "  calculated_host_listings_count_private_rooms  \\\n",
       "0                                            0   \n",
       "1                                            3   \n",
       "2                                            1   \n",
       "3                                            1   \n",
       "4                                            1   \n",
       "\n",
       "  calculated_host_listings_count_shared_rooms reviews_per_month  \n",
       "0                                           0              0.50  \n",
       "1                                           0               NaN  \n",
       "2                                           0               NaN  \n",
       "3                                           0               NaN  \n",
       "4                                           0              0.03  \n",
       "\n",
       "[5 rows x 75 columns]"
      ]
     },
     "execution_count": 409,
     "metadata": {},
     "output_type": "execute_result"
    }
   ],
   "source": [
    "df.head()"
   ]
  },
  {
   "cell_type": "code",
   "execution_count": 410,
   "id": "40e828b9",
   "metadata": {
    "scrolled": true
   },
   "outputs": [
    {
     "name": "stdout",
     "output_type": "stream",
     "text": [
      "<class 'pandas.core.frame.DataFrame'>\n",
      "RangeIndex: 15854 entries, 0 to 15853\n",
      "Data columns (total 75 columns):\n",
      " #   Column                                        Non-Null Count  Dtype  \n",
      "---  ------                                        --------------  -----  \n",
      " 0   id                                            15854 non-null  float64\n",
      " 1   listing_url                                   15854 non-null  object \n",
      " 2   scrape_id                                     15854 non-null  float64\n",
      " 3   last_scraped                                  15854 non-null  object \n",
      " 4   source                                        15854 non-null  object \n",
      " 5   name                                          15846 non-null  object \n",
      " 6   description                                   15248 non-null  object \n",
      " 7   neighborhood_overview                         8375 non-null   object \n",
      " 8   picture_url                                   15854 non-null  object \n",
      " 9   host_id                                       15854 non-null  int64  \n",
      " 10  host_url                                      15854 non-null  object \n",
      " 11  host_name                                     15854 non-null  object \n",
      " 12  host_since                                    15854 non-null  object \n",
      " 13  host_location                                 12259 non-null  object \n",
      " 14  host_about                                    9399 non-null   object \n",
      " 15  host_response_time                            12917 non-null  object \n",
      " 16  host_response_rate                            12917 non-null  object \n",
      " 17  host_acceptance_rate                          12060 non-null  object \n",
      " 18  host_is_superhost                             15853 non-null  object \n",
      " 19  host_thumbnail_url                            15854 non-null  object \n",
      " 20  host_picture_url                              15854 non-null  object \n",
      " 21  host_neighbourhood                            8800 non-null   object \n",
      " 22  host_listings_count                           15854 non-null  int64  \n",
      " 23  host_total_listings_count                     15854 non-null  int64  \n",
      " 24  host_verifications                            15854 non-null  object \n",
      " 25  host_has_profile_pic                          15854 non-null  object \n",
      " 26  host_identity_verified                        15854 non-null  object \n",
      " 27  neighbourhood                                 8375 non-null   object \n",
      " 28  neighbourhood_cleansed                        15854 non-null  object \n",
      " 29  neighbourhood_group_cleansed                  0 non-null      float64\n",
      " 30  latitude                                      15854 non-null  float64\n",
      " 31  longitude                                     15854 non-null  float64\n",
      " 32  property_type                                 15854 non-null  object \n",
      " 33  room_type                                     15854 non-null  object \n",
      " 34  accommodates                                  15854 non-null  int64  \n",
      " 35  bathrooms                                     0 non-null      float64\n",
      " 36  bathrooms_text                                15752 non-null  object \n",
      " 37  bedrooms                                      14466 non-null  float64\n",
      " 38  beds                                          15509 non-null  float64\n",
      " 39  amenities                                     15854 non-null  object \n",
      " 40  price                                         15854 non-null  object \n",
      " 41  minimum_nights                                15854 non-null  int64  \n",
      " 42  maximum_nights                                15854 non-null  int64  \n",
      " 43  minimum_minimum_nights                        15853 non-null  float64\n",
      " 44  maximum_minimum_nights                        15853 non-null  float64\n",
      " 45  minimum_maximum_nights                        15853 non-null  float64\n",
      " 46  maximum_maximum_nights                        15853 non-null  float64\n",
      " 47  minimum_nights_avg_ntm                        15853 non-null  float64\n",
      " 48  maximum_nights_avg_ntm                        15853 non-null  float64\n",
      " 49  calendar_updated                              0 non-null      float64\n",
      " 50  has_availability                              15854 non-null  object \n",
      " 51  availability_30                               15854 non-null  int64  \n",
      " 52  availability_60                               15854 non-null  int64  \n",
      " 53  availability_90                               15854 non-null  int64  \n",
      " 54  availability_365                              15854 non-null  int64  \n",
      " 55  calendar_last_scraped                         15854 non-null  object \n",
      " 56  number_of_reviews                             15854 non-null  int64  \n",
      " 57  number_of_reviews_ltm                         15854 non-null  int64  \n",
      " 58  number_of_reviews_l30d                        15854 non-null  int64  \n",
      " 59  first_review                                  10064 non-null  object \n",
      " 60  last_review                                   10064 non-null  object \n",
      " 61  review_scores_rating                          10064 non-null  float64\n",
      " 62  review_scores_accuracy                        9924 non-null   float64\n",
      " 63  review_scores_cleanliness                     9923 non-null   float64\n",
      " 64  review_scores_checkin                         9919 non-null   float64\n",
      " 65  review_scores_communication                   9923 non-null   float64\n",
      " 66  review_scores_location                        9918 non-null   float64\n",
      " 67  review_scores_value                           9917 non-null   float64\n",
      " 68  license                                       0 non-null      float64\n",
      " 69  instant_bookable                              15854 non-null  object \n",
      " 70  calculated_host_listings_count                15854 non-null  int64  \n",
      " 71  calculated_host_listings_count_entire_homes   15854 non-null  int64  \n",
      " 72  calculated_host_listings_count_private_rooms  15854 non-null  int64  \n",
      " 73  calculated_host_listings_count_shared_rooms   15854 non-null  int64  \n",
      " 74  reviews_per_month                             10064 non-null  float64\n",
      "dtypes: float64(24), int64(17), object(34)\n",
      "memory usage: 9.1+ MB\n"
     ]
    }
   ],
   "source": [
    "df.info()"
   ]
  },
  {
   "cell_type": "code",
   "execution_count": 411,
   "id": "fda2e0bf",
   "metadata": {},
   "outputs": [],
   "source": [
    "data = df.copy()\n",
    "data = data[['property_type','room_type','amenities','accommodates','bathrooms_text','bedrooms','beds','neighbourhood_cleansed','first_review','host_has_profile_pic','host_identity_verified','host_response_rate','host_since','instant_bookable','last_review','latitude','longitude','name','number_of_reviews','review_scores_rating','price']]"
   ]
  },
  {
   "cell_type": "code",
   "execution_count": 412,
   "id": "3cf94e74",
   "metadata": {
    "scrolled": true
   },
   "outputs": [
    {
     "name": "stdout",
     "output_type": "stream",
     "text": [
      "<class 'pandas.core.frame.DataFrame'>\n",
      "RangeIndex: 15854 entries, 0 to 15853\n",
      "Data columns (total 21 columns):\n",
      " #   Column                  Non-Null Count  Dtype  \n",
      "---  ------                  --------------  -----  \n",
      " 0   property_type           15854 non-null  object \n",
      " 1   room_type               15854 non-null  object \n",
      " 2   amenities               15854 non-null  object \n",
      " 3   accommodates            15854 non-null  int64  \n",
      " 4   bathrooms_text          15752 non-null  object \n",
      " 5   bedrooms                14466 non-null  float64\n",
      " 6   beds                    15509 non-null  float64\n",
      " 7   neighbourhood_cleansed  15854 non-null  object \n",
      " 8   first_review            10064 non-null  object \n",
      " 9   host_has_profile_pic    15854 non-null  object \n",
      " 10  host_identity_verified  15854 non-null  object \n",
      " 11  host_response_rate      12917 non-null  object \n",
      " 12  host_since              15854 non-null  object \n",
      " 13  instant_bookable        15854 non-null  object \n",
      " 14  last_review             10064 non-null  object \n",
      " 15  latitude                15854 non-null  float64\n",
      " 16  longitude               15854 non-null  float64\n",
      " 17  name                    15846 non-null  object \n",
      " 18  number_of_reviews       15854 non-null  int64  \n",
      " 19  review_scores_rating    10064 non-null  float64\n",
      " 20  price                   15854 non-null  object \n",
      "dtypes: float64(5), int64(2), object(14)\n",
      "memory usage: 2.5+ MB\n"
     ]
    }
   ],
   "source": [
    "data.info()"
   ]
  },
  {
   "cell_type": "markdown",
   "id": "e26e57c9",
   "metadata": {},
   "source": [
    "#### property_type"
   ]
  },
  {
   "cell_type": "code",
   "execution_count": 413,
   "id": "4a6fac9b",
   "metadata": {
    "scrolled": true
   },
   "outputs": [
    {
     "name": "stdout",
     "output_type": "stream",
     "text": [
      " null count =  0\n"
     ]
    }
   ],
   "source": [
    "## property_type ##\n",
    "\n",
    "print(' null count = ', data['property_type'].isna().sum())"
   ]
  },
  {
   "cell_type": "code",
   "execution_count": 414,
   "id": "cb00c09b",
   "metadata": {
    "scrolled": false
   },
   "outputs": [
    {
     "name": "stdout",
     "output_type": "stream",
     "text": [
      "Entire condo                   3771\n",
      "Entire rental unit             3769\n",
      "Private room in rental unit    1601\n",
      "Private room in condo           876\n",
      "Room in hotel                   695\n",
      "                               ... \n",
      "Private room in tipi              1\n",
      "Shared room in loft               1\n",
      "Private room in farm stay         1\n",
      "Treehouse                         1\n",
      "Shipping container                1\n",
      "Name: property_type, Length: 85, dtype: int64\n"
     ]
    }
   ],
   "source": [
    "print(data['property_type'].value_counts())"
   ]
  },
  {
   "cell_type": "code",
   "execution_count": 415,
   "id": "c00e9654",
   "metadata": {
    "scrolled": false
   },
   "outputs": [
    {
     "data": {
      "text/plain": [
       "Other        39\n",
       "Shared      523\n",
       "Room       1726\n",
       "Privete    4748\n",
       "Entire     8818\n",
       "Name: property_cate, dtype: int64"
      ]
     },
     "execution_count": 415,
     "metadata": {},
     "output_type": "execute_result"
    }
   ],
   "source": [
    "property_categories = ['Entire','Shared', 'Privete', 'Room']\n",
    "entire = 'Entire'\n",
    "shared = 'Shared'\n",
    "private = 'Private'\n",
    "room = 'Room'\n",
    "\n",
    "conditions = [ (data['property_type'].str.contains(entire)),\n",
    "                (data['property_type'].str.contains(shared)),\n",
    "                (data['property_type'].str.contains(private)),\n",
    "                (data['property_type'].str.contains(room))]\n",
    "\n",
    "data['property_cate'] = np.select(conditions,property_categories, default='Other')\n",
    "\n",
    "data['property_cate'].value_counts(ascending = True)"
   ]
  },
  {
   "cell_type": "markdown",
   "id": "0926387b",
   "metadata": {},
   "source": [
    "#### room_type"
   ]
  },
  {
   "cell_type": "code",
   "execution_count": 416,
   "id": "94a13dd1",
   "metadata": {},
   "outputs": [
    {
     "name": "stdout",
     "output_type": "stream",
     "text": [
      "null count =  0\n"
     ]
    }
   ],
   "source": [
    "print('null count = ', data['room_type'].isna().sum())"
   ]
  },
  {
   "cell_type": "code",
   "execution_count": 417,
   "id": "7aa4376c",
   "metadata": {},
   "outputs": [
    {
     "data": {
      "text/plain": [
       "Entire home/apt    8912\n",
       "Private room       5770\n",
       "Hotel room          649\n",
       "Shared room         523\n",
       "Name: room_type, dtype: int64"
      ]
     },
     "execution_count": 417,
     "metadata": {},
     "output_type": "execute_result"
    }
   ],
   "source": [
    "data['room_type'].value_counts()"
   ]
  },
  {
   "cell_type": "code",
   "execution_count": 418,
   "id": "2add1db6",
   "metadata": {},
   "outputs": [
    {
     "data": {
      "text/html": [
       "<div>\n",
       "<style scoped>\n",
       "    .dataframe tbody tr th:only-of-type {\n",
       "        vertical-align: middle;\n",
       "    }\n",
       "\n",
       "    .dataframe tbody tr th {\n",
       "        vertical-align: top;\n",
       "    }\n",
       "\n",
       "    .dataframe thead th {\n",
       "        text-align: right;\n",
       "    }\n",
       "</style>\n",
       "<table border=\"1\" class=\"dataframe\">\n",
       "  <thead>\n",
       "    <tr style=\"text-align: right;\">\n",
       "      <th></th>\n",
       "      <th>property_cate</th>\n",
       "      <th>room_type</th>\n",
       "    </tr>\n",
       "  </thead>\n",
       "  <tbody>\n",
       "    <tr>\n",
       "      <th>0</th>\n",
       "      <td>Entire</td>\n",
       "      <td>Entire home/apt</td>\n",
       "    </tr>\n",
       "    <tr>\n",
       "      <th>1</th>\n",
       "      <td>Privete</td>\n",
       "      <td>Private room</td>\n",
       "    </tr>\n",
       "    <tr>\n",
       "      <th>2</th>\n",
       "      <td>Privete</td>\n",
       "      <td>Private room</td>\n",
       "    </tr>\n",
       "    <tr>\n",
       "      <th>3</th>\n",
       "      <td>Privete</td>\n",
       "      <td>Private room</td>\n",
       "    </tr>\n",
       "    <tr>\n",
       "      <th>4</th>\n",
       "      <td>Privete</td>\n",
       "      <td>Private room</td>\n",
       "    </tr>\n",
       "    <tr>\n",
       "      <th>5</th>\n",
       "      <td>Privete</td>\n",
       "      <td>Private room</td>\n",
       "    </tr>\n",
       "    <tr>\n",
       "      <th>6</th>\n",
       "      <td>Privete</td>\n",
       "      <td>Private room</td>\n",
       "    </tr>\n",
       "    <tr>\n",
       "      <th>7</th>\n",
       "      <td>Entire</td>\n",
       "      <td>Entire home/apt</td>\n",
       "    </tr>\n",
       "    <tr>\n",
       "      <th>8</th>\n",
       "      <td>Privete</td>\n",
       "      <td>Private room</td>\n",
       "    </tr>\n",
       "    <tr>\n",
       "      <th>9</th>\n",
       "      <td>Privete</td>\n",
       "      <td>Private room</td>\n",
       "    </tr>\n",
       "  </tbody>\n",
       "</table>\n",
       "</div>"
      ],
      "text/plain": [
       "  property_cate        room_type\n",
       "0        Entire  Entire home/apt\n",
       "1       Privete     Private room\n",
       "2       Privete     Private room\n",
       "3       Privete     Private room\n",
       "4       Privete     Private room\n",
       "5       Privete     Private room\n",
       "6       Privete     Private room\n",
       "7        Entire  Entire home/apt\n",
       "8       Privete     Private room\n",
       "9       Privete     Private room"
      ]
     },
     "execution_count": 418,
     "metadata": {},
     "output_type": "execute_result"
    }
   ],
   "source": [
    "data[['property_cate','room_type']].head(10) # drop property"
   ]
  },
  {
   "cell_type": "markdown",
   "id": "a5c8cc37",
   "metadata": {},
   "source": [
    "#### amenities"
   ]
  },
  {
   "cell_type": "code",
   "execution_count": 419,
   "id": "50c97c16",
   "metadata": {},
   "outputs": [
    {
     "data": {
      "text/plain": [
       "0        [\"Shampoo\", \"Kitchen\", \"Fire extinguisher\", \"F...\n",
       "1        [\"Washer\", \"Air conditioning\", \"Breakfast\", \"K...\n",
       "2        [\"Pool\", \"Washer\", \"First aid kit\", \"Heating\",...\n",
       "3                              [\"Long term stays allowed\"]\n",
       "4        [\"Clothing storage: closet and dresser\", \"Blen...\n",
       "                               ...                        \n",
       "15849    [\"Paid parking on premises\", \"Shampoo\", \"Kitch...\n",
       "15850    [\"Building staff\", \"Shampoo\", \"Bidet\", \"Kitche...\n",
       "15851    [\"Paid parking on premises\", \"Shampoo\", \"Kitch...\n",
       "15852    [\"Kitchen\", \"Lockbox\", \"Drying rack for clothi...\n",
       "15853    [\"Paid parking on premises\", \"Shampoo\", \"Kitch...\n",
       "Name: amenities, Length: 15854, dtype: object"
      ]
     },
     "execution_count": 419,
     "metadata": {},
     "output_type": "execute_result"
    }
   ],
   "source": [
    "data['amenities']"
   ]
  },
  {
   "cell_type": "code",
   "execution_count": 420,
   "id": "f6a2996b",
   "metadata": {
    "scrolled": false
   },
   "outputs": [
    {
     "name": "stdout",
     "output_type": "stream",
     "text": [
      "number of list in amenities_list = 15854\n",
      "number of amenities = 1640\n"
     ]
    }
   ],
   "source": [
    "# amenities : str\n",
    "data['amenities'] = data['amenities'].str.replace('[' , '', regex=True)\n",
    "data['amenities'] = data['amenities'].str.replace(']' , '', regex=True)\n",
    "data['amenities'] = data['amenities'].str.replace('\"' , '', regex=True)\n",
    "amenities_list = [ [ word for word in row.split(',') ] for row in data['amenities'] ]\n",
    "\n",
    "cols = set( word for row in amenities_list for word in row)\n",
    "cols.remove('')\n",
    "print('number of list in amenities_list =', len(amenities_list))\n",
    "print('number of amenities =', len(cols))"
   ]
  },
  {
   "cell_type": "code",
   "execution_count": 421,
   "id": "d69d5702",
   "metadata": {},
   "outputs": [],
   "source": [
    "# amenities_df = pd.DataFrame(columns= list(cols))\n",
    "# for row_idx in range(len(amenities_list)):\n",
    "#     for col in cols:\n",
    "#         amenities_df.loc[row_idx,col] = int((lambda x : x in amenities_list[row_idx])(col))\n",
    "\n",
    "\n",
    "# amenities_df"
   ]
  },
  {
   "cell_type": "markdown",
   "id": "792ff1ad",
   "metadata": {},
   "source": [
    "#### accommodates"
   ]
  },
  {
   "cell_type": "code",
   "execution_count": 422,
   "id": "9a2ff723",
   "metadata": {},
   "outputs": [
    {
     "name": "stdout",
     "output_type": "stream",
     "text": [
      "null count =  0\n"
     ]
    }
   ],
   "source": [
    "print('null count = ', data['accommodates'].isna().sum())"
   ]
  },
  {
   "cell_type": "code",
   "execution_count": 423,
   "id": "67bb9d38",
   "metadata": {
    "scrolled": true
   },
   "outputs": [
    {
     "data": {
      "image/png": "[encoded data removed]",
      "text/plain": [
       "<Figure size 640x480 with 2 Axes>"
      ]
     },
     "metadata": {},
     "output_type": "display_data"
    }
   ],
   "source": [
    "plt.subplot(1,2,1)\n",
    "sns.histplot(data=data, x='accommodates', binwidth = 1)\n",
    "\n",
    "plt.subplot(1,2,2)\n",
    "sns.boxplot(data=data, y='accommodates')\n",
    "plt.show()"
   ]
  },
  {
   "cell_type": "markdown",
   "id": "7fa07398",
   "metadata": {},
   "source": [
    "#### bathrooms_text"
   ]
  },
  {
   "cell_type": "code",
   "execution_count": 424,
   "id": "1da362b5",
   "metadata": {
    "scrolled": true
   },
   "outputs": [
    {
     "name": "stdout",
     "output_type": "stream",
     "text": [
      "null count =  102\n",
      "0             1.5 baths\n",
      "1                1 bath\n",
      "2                1 bath\n",
      "3                1 bath\n",
      "4        1 private bath\n",
      "              ...      \n",
      "15849            1 bath\n",
      "15850    1 private bath\n",
      "15851            1 bath\n",
      "15852            1 bath\n",
      "15853            1 bath\n",
      "Name: bathrooms_text, Length: 15854, dtype: object\n"
     ]
    }
   ],
   "source": [
    "print('null count = ', data['bathrooms_text'].isna().sum())\n",
    "data['bathrooms_text'] = data['bathrooms_text'].str.lower()\n",
    "print(data['bathrooms_text'])"
   ]
  },
  {
   "cell_type": "code",
   "execution_count": 425,
   "id": "fca4c0bd",
   "metadata": {
    "scrolled": true
   },
   "outputs": [
    {
     "name": "stdout",
     "output_type": "stream",
     "text": [
      "null count after drop NaN =  0\n"
     ]
    }
   ],
   "source": [
    "def drop_by_theshold(data,column) :\n",
    "    theshold_drop = 0.05 * len(df)\n",
    "    if data[column].isna().sum() <= theshold_drop :\n",
    "        null = data[column].isna()\n",
    "        data = data[~null]\n",
    "        print('null count after drop NaN = ', data[column].isna().sum())\n",
    "    else : print('null > 5% of data; can\\'t drop ')\n",
    "    return data\n",
    "        \n",
    "data = drop_by_theshold(data,'bathrooms_text')"
   ]
  },
  {
   "cell_type": "code",
   "execution_count": 426,
   "id": "e307188a",
   "metadata": {},
   "outputs": [
    {
     "data": {
      "text/plain": [
       "0             1.5 baths\n",
       "1                1 bath\n",
       "2                1 bath\n",
       "3                1 bath\n",
       "4        1 private bath\n",
       "              ...      \n",
       "12496          14 baths\n",
       "12564    1 private bath\n",
       "12613            1 bath\n",
       "12679    1 private bath\n",
       "14390    3 shared baths\n",
       "Name: bath_new, Length: 15854, dtype: object"
      ]
     },
     "execution_count": 426,
     "metadata": {},
     "output_type": "execute_result"
    }
   ],
   "source": [
    "bath_new = list()   # some bathrooms_text don't start with number 0-9\n",
    "for row in data['bathrooms_text'] :\n",
    "    if row[0] not in '0123456789' :\n",
    "        row = '1 ' + row\n",
    "        bath_new.append(row)\n",
    "    else : bath_new.append(row)\n",
    "\n",
    "bath_df = pd.DataFrame(bath_new, columns = ['bath_new'])\n",
    "data = pd.concat([data, bath_df], axis = 1)\n",
    "\n",
    "data['bath_new']"
   ]
  },
  {
   "cell_type": "code",
   "execution_count": 427,
   "id": "e527c67b",
   "metadata": {
    "scrolled": true
   },
   "outputs": [
    {
     "name": "stderr",
     "output_type": "stream",
     "text": [
      "C:\\Users\\song-\\AppData\\Local\\Temp\\ipykernel_4592\\3232321752.py:1: FutureWarning: In a future version of pandas all arguments of StringMethods.split except for the argument 'pat' will be keyword-only.\n",
      "  data[['bath_size', 'bath_type']] = data['bath_new'].str.split(' ', 1, expand = True)\n"
     ]
    },
    {
     "data": {
      "text/html": [
       "<div>\n",
       "<style scoped>\n",
       "    .dataframe tbody tr th:only-of-type {\n",
       "        vertical-align: middle;\n",
       "    }\n",
       "\n",
       "    .dataframe tbody tr th {\n",
       "        vertical-align: top;\n",
       "    }\n",
       "\n",
       "    .dataframe thead th {\n",
       "        text-align: right;\n",
       "    }\n",
       "</style>\n",
       "<table border=\"1\" class=\"dataframe\">\n",
       "  <thead>\n",
       "    <tr style=\"text-align: right;\">\n",
       "      <th></th>\n",
       "      <th>bath_size</th>\n",
       "      <th>bath_type</th>\n",
       "    </tr>\n",
       "  </thead>\n",
       "  <tbody>\n",
       "    <tr>\n",
       "      <th>0</th>\n",
       "      <td>1.5</td>\n",
       "      <td>baths</td>\n",
       "    </tr>\n",
       "    <tr>\n",
       "      <th>1</th>\n",
       "      <td>1</td>\n",
       "      <td>bath</td>\n",
       "    </tr>\n",
       "    <tr>\n",
       "      <th>2</th>\n",
       "      <td>1</td>\n",
       "      <td>bath</td>\n",
       "    </tr>\n",
       "    <tr>\n",
       "      <th>3</th>\n",
       "      <td>1</td>\n",
       "      <td>bath</td>\n",
       "    </tr>\n",
       "    <tr>\n",
       "      <th>4</th>\n",
       "      <td>1</td>\n",
       "      <td>private bath</td>\n",
       "    </tr>\n",
       "    <tr>\n",
       "      <th>...</th>\n",
       "      <td>...</td>\n",
       "      <td>...</td>\n",
       "    </tr>\n",
       "    <tr>\n",
       "      <th>12496</th>\n",
       "      <td>14</td>\n",
       "      <td>baths</td>\n",
       "    </tr>\n",
       "    <tr>\n",
       "      <th>12564</th>\n",
       "      <td>1</td>\n",
       "      <td>private bath</td>\n",
       "    </tr>\n",
       "    <tr>\n",
       "      <th>12613</th>\n",
       "      <td>1</td>\n",
       "      <td>bath</td>\n",
       "    </tr>\n",
       "    <tr>\n",
       "      <th>12679</th>\n",
       "      <td>1</td>\n",
       "      <td>private bath</td>\n",
       "    </tr>\n",
       "    <tr>\n",
       "      <th>14390</th>\n",
       "      <td>3</td>\n",
       "      <td>shared baths</td>\n",
       "    </tr>\n",
       "  </tbody>\n",
       "</table>\n",
       "<p>15854 rows × 2 columns</p>\n",
       "</div>"
      ],
      "text/plain": [
       "      bath_size     bath_type\n",
       "0           1.5         baths\n",
       "1             1          bath\n",
       "2             1          bath\n",
       "3             1          bath\n",
       "4             1  private bath\n",
       "...         ...           ...\n",
       "12496        14         baths\n",
       "12564         1  private bath\n",
       "12613         1          bath\n",
       "12679         1  private bath\n",
       "14390         3  shared baths\n",
       "\n",
       "[15854 rows x 2 columns]"
      ]
     },
     "execution_count": 427,
     "metadata": {},
     "output_type": "execute_result"
    }
   ],
   "source": [
    "data[['bath_size', 'bath_type']] = data['bath_new'].str.split(' ', 1, expand = True)\n",
    "data[['bath_size', 'bath_type']]"
   ]
  },
  {
   "cell_type": "code",
   "execution_count": 428,
   "id": "ab78c127",
   "metadata": {},
   "outputs": [
    {
     "data": {
      "text/plain": [
       "bath                 7326\n",
       "baths                3498\n",
       "private bath         3347\n",
       "shared baths          930\n",
       "shared bath           595\n",
       "half-bath              25\n",
       "shared half-bath       24\n",
       "private half-bath       7\n",
       "Name: bath_type, dtype: int64"
      ]
     },
     "execution_count": 428,
     "metadata": {},
     "output_type": "execute_result"
    }
   ],
   "source": [
    "data['bath_type'].value_counts()"
   ]
  },
  {
   "cell_type": "code",
   "execution_count": 429,
   "id": "c56eff10",
   "metadata": {
    "scrolled": true
   },
   "outputs": [
    {
     "data": {
      "text/plain": [
       "bath                 10824\n",
       "private bath          3347\n",
       "shared bath           1525\n",
       "half-bath               25\n",
       "shared half-bath        24\n",
       "private half-bath        7\n",
       "Name: bath_type, dtype: int64"
      ]
     },
     "execution_count": 429,
     "metadata": {},
     "output_type": "execute_result"
    }
   ],
   "source": [
    "data['bath_type'] = data['bath_type'].replace(['baths','shared baths','Shared half-bath','Private half-bath'],\n",
    "                                              ['bath','shared bath','Half-bath','Half-bath'])\n",
    "data['bath_type'].value_counts()"
   ]
  },
  {
   "cell_type": "code",
   "execution_count": 430,
   "id": "ac496be5",
   "metadata": {
    "scrolled": true
   },
   "outputs": [
    {
     "data": {
      "image/png": "[encoded data removed]",
      "text/plain": [
       "<Figure size 1500x500 with 1 Axes>"
      ]
     },
     "metadata": {},
     "output_type": "display_data"
    }
   ],
   "source": [
    "plt.figure(figsize=(15,5))\n",
    "sns.histplot(data=data, x = 'bath_size')\n",
    "plt.show()"
   ]
  },
  {
   "cell_type": "markdown",
   "id": "a6178f42",
   "metadata": {},
   "source": [
    "#### bedrooms"
   ]
  },
  {
   "cell_type": "code",
   "execution_count": 431,
   "id": "e872e6aa",
   "metadata": {},
   "outputs": [
    {
     "name": "stdout",
     "output_type": "stream",
     "text": [
      "null count =  1482\n",
      "0        1.0\n",
      "1        1.0\n",
      "2        1.0\n",
      "3        1.0\n",
      "4        1.0\n",
      "        ... \n",
      "12496    NaN\n",
      "12564    NaN\n",
      "12613    NaN\n",
      "12679    NaN\n",
      "14390    NaN\n",
      "Name: bedrooms, Length: 15854, dtype: float64\n"
     ]
    }
   ],
   "source": [
    "print('null count = ', data['bedrooms'].isna().sum())\n",
    "print(data['bedrooms'])"
   ]
  },
  {
   "cell_type": "code",
   "execution_count": 432,
   "id": "ec89b081",
   "metadata": {
    "scrolled": true
   },
   "outputs": [
    {
     "name": "stdout",
     "output_type": "stream",
     "text": [
      "null > 5% of data; can't drop \n"
     ]
    }
   ],
   "source": [
    "data = drop_by_theshold(data,'bedrooms')"
   ]
  },
  {
   "cell_type": "code",
   "execution_count": 433,
   "id": "41417124",
   "metadata": {
    "scrolled": true
   },
   "outputs": [
    {
     "data": {
      "image/png": "[encoded data removed]",
      "text/plain": [
       "<Figure size 640x480 with 1 Axes>"
      ]
     },
     "metadata": {},
     "output_type": "display_data"
    }
   ],
   "source": [
    "sns.histplot(data=data, x='bedrooms', bins = 100, binwidth = 1)\n",
    "plt.show()"
   ]
  },
  {
   "cell_type": "code",
   "execution_count": 434,
   "id": "3fde822c",
   "metadata": {
    "scrolled": true
   },
   "outputs": [],
   "source": [
    "data['bedrooms'] = data['bedrooms'].fillna(data['bedrooms'].median())\n",
    "# print('null count = ', data['bedrooms'].isna().sum())\n",
    "# sns.histplot(data=data, x='bedrooms', bins = 100, binwidth = 1)\n",
    "# plt.show()"
   ]
  },
  {
   "cell_type": "markdown",
   "id": "4e206039",
   "metadata": {},
   "source": [
    "#### beds"
   ]
  },
  {
   "cell_type": "code",
   "execution_count": 435,
   "id": "6c1d17f1",
   "metadata": {
    "scrolled": true
   },
   "outputs": [
    {
     "name": "stdout",
     "output_type": "stream",
     "text": [
      "null count =  432\n",
      "0        1.0\n",
      "1        1.0\n",
      "2        2.0\n",
      "3        1.0\n",
      "4        1.0\n",
      "        ... \n",
      "12496    NaN\n",
      "12564    NaN\n",
      "12613    NaN\n",
      "12679    NaN\n",
      "14390    NaN\n",
      "Name: beds, Length: 15854, dtype: float64\n",
      "---------------------------\n",
      "null count after drop NaN =  0\n"
     ]
    }
   ],
   "source": [
    "print('null count = ', data['beds'].isna().sum())\n",
    "print(data['beds'])\n",
    "print('---------------------------')\n",
    "data = drop_by_theshold(data,'beds')"
   ]
  },
  {
   "cell_type": "markdown",
   "id": "f7e8efd1",
   "metadata": {},
   "source": [
    "#### neighbourhood_cleansed"
   ]
  },
  {
   "cell_type": "code",
   "execution_count": 436,
   "id": "bdee06fa",
   "metadata": {
    "scrolled": true
   },
   "outputs": [
    {
     "name": "stdout",
     "output_type": "stream",
     "text": [
      "null count =  0\n",
      "0        Ratchathewi\n",
      "1          Bang Kapi\n",
      "2            Bang Na\n",
      "3          Bang Kapi\n",
      "4          Din Daeng\n",
      "            ...     \n",
      "15849    Ratchathewi\n",
      "15850     Chatu Chak\n",
      "15851    Ratchathewi\n",
      "15852     Bang Phlat\n",
      "15853    Khlong Toei\n",
      "Name: neighbourhood_cleansed, Length: 15422, dtype: object\n"
     ]
    }
   ],
   "source": [
    "print('null count = ', data['neighbourhood_cleansed'].isna().sum())\n",
    "print(data['neighbourhood_cleansed'])"
   ]
  },
  {
   "cell_type": "code",
   "execution_count": 437,
   "id": "fb7480e4",
   "metadata": {},
   "outputs": [
    {
     "data": {
      "text/plain": [
       "50"
      ]
     },
     "execution_count": 437,
     "metadata": {},
     "output_type": "execute_result"
    }
   ],
   "source": [
    "data['neighbourhood_cleansed'] = data['neighbourhood_cleansed'].str.lower()\n",
    "data['neighbourhood_cleansed'].nunique()"
   ]
  },
  {
   "cell_type": "code",
   "execution_count": 438,
   "id": "619e6a8f",
   "metadata": {},
   "outputs": [
    {
     "data": {
      "text/plain": [
       "vadhana                 2106\n",
       "khlong toei             2057\n",
       "huai khwang             1091\n",
       "ratchathewi             1084\n",
       "bang rak                 817\n",
       "sathon                   792\n",
       "phra nakhon              602\n",
       "phra khanong             546\n",
       "chatu chak               530\n",
       "parthum wan              442\n",
       "bang na                  433\n",
       "din daeng                428\n",
       "phaya thai               412\n",
       "suanluang                372\n",
       "khlong san               341\n",
       "bang kapi                246\n",
       "bang sue                 244\n",
       "bang phlat               209\n",
       "yan na wa                196\n",
       "thon buri                177\n",
       "don mueang               161\n",
       "phasi charoen            151\n",
       "bangkok noi              151\n",
       "pra wet                  149\n",
       "lat krabang              142\n",
       "bang kho laen            139\n",
       "lak si                   122\n",
       "pom prap sattru phai     121\n",
       "bang khen                111\n",
       "samphanthawong           109\n",
       "wang thong lang           89\n",
       "dusit                     88\n",
       "bang khae                 86\n",
       "bangkok yai               83\n",
       "chom thong                72\n",
       "min buri                  62\n",
       "lat phrao                 56\n",
       "rat burana                53\n",
       "khan na yao               53\n",
       "bueng kum                 52\n",
       "taling chan               49\n",
       "saphan sung               45\n",
       "sai mai                   39\n",
       "khlong sam wa             32\n",
       "thung khru                23\n",
       "bang khun thain           20\n",
       "nong chok                 14\n",
       "thawi watthana            12\n",
       "nong khaem                 9\n",
       "bang bon                   4\n",
       "Name: neighbourhood_cleansed, dtype: int64"
      ]
     },
     "execution_count": 438,
     "metadata": {},
     "output_type": "execute_result"
    }
   ],
   "source": [
    "data['neighbourhood_cleansed'].value_counts()"
   ]
  }
 ],
 "metadata": {
  "kernelspec": {
   "display_name": "Python 3 (ipykernel)",
   "language": "python",
   "name": "python3"
  },
  "language_info": {
   "codemirror_mode": {
    "name": "ipython",
    "version": 3
   },
   "file_extension": ".py",
   "mimetype": "text/x-python",
   "name": "python",
   "nbconvert_exporter": "python",
   "pygments_lexer": "ipython3",
   "version": "3.10.9"
  }
 },
 "nbformat": 4,
 "nbformat_minor": 5
}
