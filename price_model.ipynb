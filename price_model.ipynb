{
 "cells": [
  {
   "cell_type": "code",
   "execution_count": 1,
   "id": "ded5a481",
   "metadata": {},
   "outputs": [],
   "source": [
    "import math\n",
    "import numpy as np\n",
    "import pandas as pd\n",
    "import matplotlib.pyplot as plt\n",
    "import seaborn as sns"
   ]
  },
  {
   "cell_type": "markdown",
   "id": "dc7b9040",
   "metadata": {},
   "source": [
    "# Import clean data"
   ]
  },
  {
   "cell_type": "code",
   "execution_count": 2,
   "id": "0db5cf9e",
   "metadata": {},
   "outputs": [],
   "source": [
    "#Read data from file\n",
    "filename = 'data_clean.csv'\n",
    "df = pd.read_csv(filename)"
   ]
  },
  {
   "cell_type": "code",
   "execution_count": 3,
   "id": "48b88af7",
   "metadata": {
    "scrolled": true
   },
   "outputs": [
    {
     "name": "stdout",
     "output_type": "stream",
     "text": [
      "<class 'pandas.core.frame.DataFrame'>\n",
      "RangeIndex: 15079 entries, 0 to 15078\n",
      "Data columns (total 13 columns):\n",
      " #   Column                Non-Null Count  Dtype  \n",
      "---  ------                --------------  -----  \n",
      " 0   Unnamed: 0            15079 non-null  int64  \n",
      " 1   room_type             15079 non-null  object \n",
      " 2   accommodates          15079 non-null  int64  \n",
      " 3   bedrooms              15079 non-null  float64\n",
      " 4   beds                  15079 non-null  float64\n",
      " 5   host_response_rate    15079 non-null  int64  \n",
      " 6   latitude              15079 non-null  float64\n",
      " 7   longitude             15079 non-null  float64\n",
      " 8   number_of_reviews     15079 non-null  int64  \n",
      " 9   review_scores_rating  15079 non-null  float64\n",
      " 10  bath_size             15079 non-null  float64\n",
      " 11  bath_type             15079 non-null  object \n",
      " 12  price_log             15079 non-null  float64\n",
      "dtypes: float64(7), int64(4), object(2)\n",
      "memory usage: 1.5+ MB\n"
     ]
    }
   ],
   "source": [
    "df.info()"
   ]
  },
  {
   "cell_type": "markdown",
   "id": "687cc7ec",
   "metadata": {},
   "source": [
    "# Model"
   ]
  },
  {
   "cell_type": "code",
   "execution_count": 4,
   "id": "43092398",
   "metadata": {},
   "outputs": [],
   "source": [
    "from sklearn.model_selection import train_test_split\n",
    "from sklearn.model_selection import cross_validate, KFold\n",
    "from sklearn.model_selection import GridSearchCV\n",
    "from sklearn.preprocessing import StandardScaler\n",
    "\n",
    "from sklearn.linear_model import LinearRegression, Ridge, Lasso\n",
    "from sklearn.neighbors import KNeighborsRegressor\n",
    "from sklearn.tree import DecisionTreeRegressor\n",
    "from sklearn.ensemble import RandomForestRegressor\n",
    "\n",
    "from sklearn.metrics import mean_squared_error"
   ]
  },
  {
   "cell_type": "code",
   "execution_count": 5,
   "id": "aa83dce1",
   "metadata": {},
   "outputs": [
    {
     "name": "stdout",
     "output_type": "stream",
     "text": [
      "shape of x =  (15079, 18)\n",
      "shape of y =  (15079,)\n"
     ]
    }
   ],
   "source": [
    "x = pd.get_dummies(df).drop(columns=['price_log'])\n",
    "\n",
    "y = df['price_log']\n",
    "\n",
    "print('shape of x = ', x.shape)\n",
    "print('shape of y = ' , y.shape)"
   ]
  },
  {
   "cell_type": "code",
   "execution_count": 6,
   "id": "b61f75df",
   "metadata": {
    "scrolled": true
   },
   "outputs": [
    {
     "name": "stdout",
     "output_type": "stream",
     "text": [
      "training-set = 0.70 %\n",
      "validation-set = 0.20 %\n",
      "test-set = 0.10 %\n"
     ]
    }
   ],
   "source": [
    "x_train1, x_test, y_train1, y_test = train_test_split(x, y, test_size=0.1, random_state=123)\n",
    "x_train, x_valid, y_train, y_valid = train_test_split(x_train1, y_train1, test_size=2/9, random_state=123)\n",
    "\n",
    "print('training-set = {:.2f} %'.format(x_train.shape[0]/x.shape[0]))\n",
    "print('validation-set = {:.2f} %'.format(x_valid.shape[0]/x.shape[0]))\n",
    "print('test-set = {:.2f} %'.format(x_test.shape[0]/x.shape[0]))"
   ]
  },
  {
   "cell_type": "code",
   "execution_count": 7,
   "id": "d5d430c5",
   "metadata": {},
   "outputs": [],
   "source": [
    "#sc = StandardScaler()"
   ]
  },
  {
   "cell_type": "markdown",
   "id": "a3befd08",
   "metadata": {},
   "source": [
    "### Model 1 : Linear regression"
   ]
  },
  {
   "cell_type": "code",
   "execution_count": 8,
   "id": "7a660b9f",
   "metadata": {},
   "outputs": [
    {
     "name": "stdout",
     "output_type": "stream",
     "text": [
      "R squeard = 0.22\n"
     ]
    }
   ],
   "source": [
    "reg = LinearRegression()\n",
    "reg.fit(x_train, y_train)\n",
    "reg_pred = reg.predict(x_valid)\n",
    "print('R squeard = {:.2f}'.format(reg.score(x_valid, y_valid)))"
   ]
  },
  {
   "cell_type": "code",
   "execution_count": 9,
   "id": "28640fa9",
   "metadata": {},
   "outputs": [
    {
     "name": "stdout",
     "output_type": "stream",
     "text": [
      "RMSE = 0.62\n"
     ]
    }
   ],
   "source": [
    "# RMSE = sqr(MSE)\n",
    "reg_rmse = mean_squared_error(y_valid, reg_pred, squared=False)\n",
    "print('RMSE = {:.2f}'.format(reg_rmse))"
   ]
  },
  {
   "cell_type": "code",
   "execution_count": 10,
   "id": "95e0d1fa",
   "metadata": {
    "scrolled": true
   },
   "outputs": [
    {
     "name": "stdout",
     "output_type": "stream",
     "text": [
      "[0.21787885 0.2533226  0.25170751 0.24905463 0.24253654]\n",
      "Avearge of R2 = 0.24\n",
      "============================================================\n",
      "[0.62337365 0.60745681 0.60743619 0.60402772 0.61721605]\n",
      "Avearge of RMSE = 0.61 \n"
     ]
    }
   ],
   "source": [
    "# try cross validation\n",
    "\n",
    "kf = KFold(n_splits=5, shuffle=True, random_state = 123)\n",
    "cv_reg = cross_validate(reg, x_train1, y_train1, cv = kf, scoring = ['r2','neg_root_mean_squared_error'])\n",
    "\n",
    "\n",
    "print(cv_reg['test_r2'])\n",
    "print('Avearge of R2 = {:.2f}'.format(cv_reg['test_r2'].mean()))\n",
    "\n",
    "print('============================================================')\n",
    "\n",
    "rmse_regcv = cv_reg['test_neg_root_mean_squared_error']*-1\n",
    "print(rmse_regcv)\n",
    "print('Avearge of RMSE = {:.2f} '.format(rmse_regcv.mean()))\n"
   ]
  },
  {
   "cell_type": "markdown",
   "id": "9d4cbe0f",
   "metadata": {},
   "source": [
    "### Model 2 : Ridge regression"
   ]
  },
  {
   "cell_type": "code",
   "execution_count": 11,
   "id": "8084d320",
   "metadata": {},
   "outputs": [
    {
     "name": "stdout",
     "output_type": "stream",
     "text": [
      "R squeard = 0.22\n",
      "RMSE = 0.62\n"
     ]
    }
   ],
   "source": [
    "# default\n",
    "ridge = Ridge()\n",
    "ridge.fit(x_train, y_train) \n",
    "ridge_pred = ridge.predict(x_valid)\n",
    "print('R squeard = {:.2f}'.format(ridge.score(x_valid, y_valid)))\n",
    "\n",
    "# RMSE = sqr(MSE)\n",
    "ridge_rmse = mean_squared_error(y_valid, ridge_pred, squared=False)\n",
    "print('RMSE = {:.2f}'.format(ridge_rmse))"
   ]
  },
  {
   "cell_type": "code",
   "execution_count": 12,
   "id": "55d2608e",
   "metadata": {
    "scrolled": false
   },
   "outputs": [
    {
     "name": "stdout",
     "output_type": "stream",
     "text": [
      "[0.21774997 0.25357465 0.25180278 0.24891933 0.24242426]\n",
      "Avearge of R2 = 0.24\n",
      "============================================================\n",
      "[0.623425   0.60735427 0.60739752 0.60408213 0.6172618 ]\n",
      "Avearge of RMSE = 0.61 \n"
     ]
    }
   ],
   "source": [
    "# try cross validation\n",
    "\n",
    "kf = KFold(n_splits=5, shuffle=True, random_state = 123)\n",
    "cv_ridge = cross_validate(ridge, x_train1, y_train1, cv = kf, scoring = ['r2','neg_root_mean_squared_error'])\n",
    "\n",
    "\n",
    "print(cv_ridge['test_r2'])\n",
    "print('Avearge of R2 = {:.2f}'.format(cv_ridge['test_r2'].mean()))\n",
    "\n",
    "print('============================================================')\n",
    "\n",
    "rmse_ridcv = cv_ridge['test_neg_root_mean_squared_error']*-1\n",
    "print(rmse_ridcv)\n",
    "print('Avearge of RMSE = {:.2f} '.format(rmse_ridcv.mean()))\n"
   ]
  },
  {
   "cell_type": "markdown",
   "id": "0c57f7f9",
   "metadata": {},
   "source": [
    "#### tune alpha"
   ]
  },
  {
   "cell_type": "code",
   "execution_count": 13,
   "id": "3d8c0458",
   "metadata": {},
   "outputs": [
    {
     "data": {
      "image/png": "[encoded data removed]",
      "text/plain": [
       "<Figure size 700x350 with 1 Axes>"
      ]
     },
     "metadata": {},
     "output_type": "display_data"
    }
   ],
   "source": [
    "rmse_train = list()\n",
    "rmse_val = list()\n",
    "ridge_alpha = [10**x for x in np.linspace(-4,10)]\n",
    "\n",
    "for a in ridge_alpha :\n",
    "    model = Ridge(alpha = a)\n",
    "    model.fit(x_train, y_train)\n",
    "    pred_train = model.predict(x_train)\n",
    "    pred_val = model.predict(x_valid)\n",
    "    train = mean_squared_error(y_train, pred_train, squared=False)\n",
    "    val = mean_squared_error(y_valid, pred_val, squared=False)\n",
    "    rmse_train.append(train)\n",
    "    rmse_val.append(val)\n",
    "    \n",
    "plt.figure(figsize=(7,3.5))\n",
    "plt.plot(ridge_alpha, rmse_train, label = 'training set')\n",
    "plt.plot(ridge_alpha, rmse_val, label = 'validation set')\n",
    "plt.xscale('log')\n",
    "plt.xlabel('Alpha parameter')\n",
    "plt.ylabel('RMSE')\n",
    "plt.legend()\n",
    "plt.show()"
   ]
  },
  {
   "cell_type": "code",
   "execution_count": 14,
   "id": "695c8e4a",
   "metadata": {},
   "outputs": [
    {
     "name": "stdout",
     "output_type": "stream",
     "text": [
      "Best parameter : {'alpha': 0.35564803062231287}\n",
      "Best RMSE = 0.61\n"
     ]
    }
   ],
   "source": [
    "ridge_alpha = [10**x for x in np.linspace(-4,2)]\n",
    "ridge_param = { 'alpha' : ridge_alpha}\n",
    "\n",
    "ridge_kf = KFold(n_splits = 5, shuffle=True, random_state = 123)\n",
    "ridge_grid = GridSearchCV(ridge, ridge_param, cv = ridge_kf, scoring = 'neg_root_mean_squared_error')\n",
    "tune_ridge = ridge_grid.fit(x_train,y_train)\n",
    "\n",
    "print('Best parameter :', tune_ridge.best_params_)\n",
    "print('Best RMSE = {:.2f}'.format( tune_ridge.best_score_ * -1 ))"
   ]
  },
  {
   "cell_type": "markdown",
   "id": "247b3a3c",
   "metadata": {},
   "source": [
    "### Model 3 : Lasso regression"
   ]
  },
  {
   "cell_type": "code",
   "execution_count": 15,
   "id": "6281f097",
   "metadata": {},
   "outputs": [
    {
     "name": "stdout",
     "output_type": "stream",
     "text": [
      "R squeard = 0.01\n",
      "RMSE = 0.70\n"
     ]
    }
   ],
   "source": [
    "# default\n",
    "lasso = Lasso()\n",
    "lasso.fit(x_train, y_train) \n",
    "lasso_pred = lasso.predict(x_valid)\n",
    "print('R squeard = {:.2f}'.format(lasso.score(x_valid, y_valid)))\n",
    "\n",
    "# RMSE = sqr(MSE)\n",
    "lasso_rmse = mean_squared_error(y_valid, lasso_pred, squared=False)\n",
    "print('RMSE = {:.2f}'.format(lasso_rmse))"
   ]
  },
  {
   "cell_type": "code",
   "execution_count": 16,
   "id": "cfb505bd",
   "metadata": {
    "scrolled": true
   },
   "outputs": [
    {
     "name": "stdout",
     "output_type": "stream",
     "text": [
      "[0.0079597  0.00636643 0.00770253 0.00770339 0.00489224]\n",
      "Avearge of R2 = 0.01\n",
      "============================================================\n",
      "[0.70206299 0.70074826 0.69949709 0.69434203 0.70744295]\n",
      "Avearge of RMSE = 0.70 \n"
     ]
    }
   ],
   "source": [
    "# try cross validation\n",
    "\n",
    "kf = KFold(n_splits=5, shuffle=True, random_state = 123)\n",
    "cv_lasso = cross_validate(lasso, x_train1, y_train1, cv = kf, scoring = ['r2','neg_root_mean_squared_error'])\n",
    "\n",
    "\n",
    "print(cv_lasso['test_r2'])\n",
    "print('Avearge of R2 = {:.2f}'.format(cv_lasso['test_r2'].mean()))\n",
    "\n",
    "print('============================================================')\n",
    "\n",
    "rmse_lascv = cv_lasso['test_neg_root_mean_squared_error']*-1\n",
    "print(rmse_lascv)\n",
    "print('Avearge of RMSE = {:.2f} '.format(rmse_lascv.mean()))"
   ]
  },
  {
   "cell_type": "markdown",
   "id": "975054c0",
   "metadata": {},
   "source": [
    "#### tune alpha"
   ]
  },
  {
   "cell_type": "code",
   "execution_count": 17,
   "id": "0acfc4bb",
   "metadata": {
    "scrolled": false
   },
   "outputs": [
    {
     "data": {
      "image/png": "[encoded data removed]",
      "text/plain": [
       "<Figure size 700x350 with 1 Axes>"
      ]
     },
     "metadata": {},
     "output_type": "display_data"
    }
   ],
   "source": [
    "rmse_train = list()\n",
    "rmse_val = list()\n",
    "lasso_alpha = [10**x for x in np.linspace(-5,10)]\n",
    "\n",
    "for a in lasso_alpha :\n",
    "    model = Lasso(alpha = a)\n",
    "    model.fit(x_train, y_train)\n",
    "    pred_train = model.predict(x_train)\n",
    "    pred_val = model.predict(x_valid)\n",
    "    train = mean_squared_error(y_train, pred_train, squared=False)\n",
    "    val = mean_squared_error(y_valid, pred_val, squared=False)\n",
    "    rmse_train.append(train)\n",
    "    rmse_val.append(val)\n",
    "\n",
    "plt.figure(figsize=(7,3.5))\n",
    "plt.plot(lasso_alpha, rmse_train, label = 'training set')\n",
    "plt.plot(lasso_alpha, rmse_val, label = 'validation set')\n",
    "plt.xscale('log')\n",
    "plt.xlabel('Alpha parameter')\n",
    "plt.ylabel('RMSE')\n",
    "plt.legend()\n",
    "plt.show()"
   ]
  },
  {
   "cell_type": "code",
   "execution_count": 18,
   "id": "c89783e1",
   "metadata": {},
   "outputs": [
    {
     "name": "stdout",
     "output_type": "stream",
     "text": [
      "Best parameter : {'alpha': 0.0001}\n",
      "Best RMSE = 0.61\n"
     ]
    }
   ],
   "source": [
    "lasso_alpha = [10**x for x in np.linspace(-4,0)]\n",
    "lasso_param = { 'alpha' : lasso_alpha}\n",
    "\n",
    "lasso_kf = KFold(n_splits = 5, shuffle=True, random_state = 123)\n",
    "lasso_grid = GridSearchCV(lasso, lasso_param, cv = lasso_kf, scoring = 'neg_root_mean_squared_error')\n",
    "tune_lasso = lasso_grid.fit(x_train,y_train)\n",
    "\n",
    "print('Best parameter :', tune_lasso.best_params_)\n",
    "print('Best RMSE = {:.2f}'.format( tune_lasso.best_score_ * -1 ))"
   ]
  },
  {
   "cell_type": "markdown",
   "id": "7603f05d",
   "metadata": {},
   "source": [
    "### Model 4 : KNN"
   ]
  },
  {
   "cell_type": "code",
   "execution_count": 19,
   "id": "8f27be28",
   "metadata": {},
   "outputs": [
    {
     "name": "stdout",
     "output_type": "stream",
     "text": [
      "RMSE = 0.72\n"
     ]
    }
   ],
   "source": [
    "# default\n",
    "knn = KNeighborsRegressor()\n",
    "knn.fit(x_train,y_train)\n",
    "knn_pred = knn.predict(x_valid)\n",
    "\n",
    "# RMSE = sqr(MSE)\n",
    "knn_rmse = mean_squared_error(y_valid, knn_pred, squared=False)\n",
    "print('RMSE = {:.2f}'.format(knn_rmse))"
   ]
  },
  {
   "cell_type": "code",
   "execution_count": 20,
   "id": "9141de91",
   "metadata": {
    "scrolled": true
   },
   "outputs": [
    {
     "name": "stdout",
     "output_type": "stream",
     "text": [
      "============================================================\n",
      "[0.72036792 0.70802402 0.71695369 0.71281421 0.73047719]\n",
      "Avearge of RMSE = 0.72 \n"
     ]
    }
   ],
   "source": [
    "# try cross validation\n",
    "\n",
    "kf = KFold(n_splits=5, shuffle=True, random_state = 123)\n",
    "cv_knn = cross_validate(knn, x_train1, y_train1, cv = kf, scoring = ['neg_root_mean_squared_error'])\n",
    "\n",
    "print('============================================================')\n",
    "\n",
    "rmse_knncv = cv_knn['test_neg_root_mean_squared_error']*-1\n",
    "print(rmse_knncv)\n",
    "print('Avearge of RMSE = {:.2f} '.format(rmse_knncv.mean()))"
   ]
  },
  {
   "cell_type": "markdown",
   "id": "3b0ae196",
   "metadata": {},
   "source": [
    "#### tune KNN paremeters"
   ]
  },
  {
   "cell_type": "code",
   "execution_count": 21,
   "id": "a60cb1fc",
   "metadata": {
    "scrolled": true
   },
   "outputs": [
    {
     "data": {
      "image/png": "[encoded data removed]",
      "text/plain": [
       "<Figure size 700x350 with 1 Axes>"
      ]
     },
     "metadata": {},
     "output_type": "display_data"
    }
   ],
   "source": [
    "rmse_train = list()\n",
    "rmse_val = list()\n",
    "n_neighbors = [x for x in np.arange(1,25,1)]\n",
    "\n",
    "for n in n_neighbors :\n",
    "    model = KNeighborsRegressor(n_neighbors = n)\n",
    "    model.fit(x_train, y_train)\n",
    "    pred_train = model.predict(x_train)\n",
    "    pred_val = model.predict(x_valid)\n",
    "    train = mean_squared_error(y_train, pred_train, squared=False)\n",
    "    val = mean_squared_error(y_valid, pred_val, squared=False)\n",
    "    rmse_train.append(train)\n",
    "    rmse_val.append(val)\n",
    "\n",
    "plt.figure(figsize=(7,3.5))\n",
    "plt.plot(n_neighbors, rmse_train, label = 'training set')\n",
    "plt.plot(n_neighbors, rmse_val, label = 'validation set')\n",
    "plt.xlabel('n_neighbors parameter')\n",
    "plt.ylabel('RMSE')\n",
    "plt.legend()\n",
    "plt.show()"
   ]
  },
  {
   "cell_type": "code",
   "execution_count": 22,
   "id": "bbea2459",
   "metadata": {},
   "outputs": [
    {
     "name": "stdout",
     "output_type": "stream",
     "text": [
      "Best parameter : {'metric': 'manhattan', 'n_neighbors': 20, 'weights': 'distance'}\n",
      "Best RMSE = 0.67\n"
     ]
    }
   ],
   "source": [
    "knn_param = {'n_neighbors' : [x for x in np.arange(5,25,1)],\n",
    "               'weights' : ['uniform','distance'],\n",
    "               'metric' : ['minkowski','euclidean','manhattan']}\n",
    "\n",
    "knn_kf = KFold(n_splits = 5, shuffle=True, random_state = 123)\n",
    "knn_grid = GridSearchCV(knn, knn_param, cv = knn_kf, scoring = 'neg_root_mean_squared_error')\n",
    "tune_knn = knn_grid.fit(x_train,y_train)\n",
    "\n",
    "print('Best parameter :', tune_knn.best_params_)\n",
    "print('Best RMSE = {:.2f}'.format( tune_knn.best_score_ * -1 ))"
   ]
  },
  {
   "cell_type": "markdown",
   "id": "b34b369e",
   "metadata": {},
   "source": [
    "### Model 5 : RandomForest"
   ]
  },
  {
   "cell_type": "code",
   "execution_count": 23,
   "id": "244b6eac",
   "metadata": {},
   "outputs": [
    {
     "name": "stdout",
     "output_type": "stream",
     "text": [
      "RMSE = 0.49\n"
     ]
    }
   ],
   "source": [
    "#defalut\n",
    "rf = RandomForestRegressor()\n",
    "rf.fit(x_train,y_train)\n",
    "rf_pred = rf.predict(x_valid)\n",
    "\n",
    "rf_rmse = mean_squared_error(y_valid, rf_pred, squared=False)\n",
    "print('RMSE = {:.2f}'.format(rf_rmse))"
   ]
  },
  {
   "cell_type": "code",
   "execution_count": 24,
   "id": "69ae35c8",
   "metadata": {
    "scrolled": true
   },
   "outputs": [
    {
     "name": "stdout",
     "output_type": "stream",
     "text": [
      "============================================================\n",
      "[0.48010007 0.46493296 0.46958081 0.47362764 0.48424175]\n",
      "Avearge of RMSE = 0.47 \n"
     ]
    }
   ],
   "source": [
    "# try cross validation\n",
    "\n",
    "kf = KFold(n_splits=5, shuffle=True, random_state = 123)\n",
    "cv_rf = cross_validate(rf, x_train1, y_train1, cv = kf, scoring = ['neg_root_mean_squared_error'])\n",
    "\n",
    "print('============================================================')\n",
    "\n",
    "rmse_rfcv = cv_rf['test_neg_root_mean_squared_error']*-1\n",
    "print(rmse_rfcv)\n",
    "print('Avearge of RMSE = {:.2f} '.format(rmse_rfcv.mean()))"
   ]
  },
  {
   "cell_type": "markdown",
   "id": "aa35f97b",
   "metadata": {},
   "source": [
    "#### tune RandomForest paremeters"
   ]
  },
  {
   "cell_type": "code",
   "execution_count": null,
   "id": "cec65b50",
   "metadata": {},
   "outputs": [],
   "source": []
  },
  {
   "cell_type": "markdown",
   "id": "641dd51c",
   "metadata": {},
   "source": [
    "### Model 6 : XGboost"
   ]
  },
  {
   "cell_type": "code",
   "execution_count": 25,
   "id": "1fbf9bbf",
   "metadata": {},
   "outputs": [
    {
     "name": "stdout",
     "output_type": "stream",
     "text": [
      "Requirement already satisfied: xgboost in c:\\users\\song-\\anaconda3\\lib\\site-packages (1.7.6)\n",
      "Requirement already satisfied: numpy in c:\\users\\song-\\anaconda3\\lib\\site-packages (from xgboost) (1.23.5)\n",
      "Requirement already satisfied: scipy in c:\\users\\song-\\anaconda3\\lib\\site-packages (from xgboost) (1.10.0)\n"
     ]
    }
   ],
   "source": [
    "!pip install xgboost"
   ]
  },
  {
   "cell_type": "code",
   "execution_count": 26,
   "id": "09697685",
   "metadata": {},
   "outputs": [],
   "source": [
    "from xgboost import XGBRegressor"
   ]
  },
  {
   "cell_type": "code",
   "execution_count": 27,
   "id": "b44c264e",
   "metadata": {},
   "outputs": [
    {
     "name": "stdout",
     "output_type": "stream",
     "text": [
      "RMSE = 0.49\n"
     ]
    }
   ],
   "source": [
    "#defalut\n",
    "xgb = XGBRegressor()\n",
    "xgb.fit(x_train,y_train)\n",
    "xgb_pred = xgb.predict(x_valid)\n",
    "\n",
    "xgb_rmse = mean_squared_error(y_valid, xgb_pred, squared=False)\n",
    "print('RMSE = {:.2f}'.format(xgb_rmse))"
   ]
  },
  {
   "cell_type": "code",
   "execution_count": 28,
   "id": "3420627e",
   "metadata": {
    "scrolled": true
   },
   "outputs": [
    {
     "name": "stdout",
     "output_type": "stream",
     "text": [
      "============================================================\n",
      "[0.49288995 0.48680131 0.49999469 0.48796404 0.50264082]\n",
      "Avearge of RMSE = 0.49 \n"
     ]
    }
   ],
   "source": [
    "# try cross validation\n",
    "\n",
    "kf = KFold(n_splits=5, shuffle=True, random_state = 123)\n",
    "cv_xgb = cross_validate(xgb, x_train1, y_train1, cv = kf, scoring = ['neg_root_mean_squared_error'])\n",
    "\n",
    "print('============================================================')\n",
    "\n",
    "rmse_xgbcv = cv_xgb['test_neg_root_mean_squared_error']*-1\n",
    "print(rmse_xgbcv)\n",
    "print('Avearge of RMSE = {:.2f} '.format(rmse_xgbcv.mean()))"
   ]
  },
  {
   "cell_type": "markdown",
   "id": "c671dc3c",
   "metadata": {},
   "source": [
    "#### tune XGB paremeters"
   ]
  },
  {
   "cell_type": "markdown",
   "id": "899bc29b",
   "metadata": {},
   "source": [
    "- max_dept"
   ]
  },
  {
   "cell_type": "code",
   "execution_count": 29,
   "id": "3d0e5548",
   "metadata": {},
   "outputs": [
    {
     "data": {
      "image/png": "[encoded data removed]",
      "text/plain": [
       "<Figure size 700x350 with 1 Axes>"
      ]
     },
     "metadata": {},
     "output_type": "display_data"
    }
   ],
   "source": [
    "depth = np.arange(1,25,1)\n",
    "\n",
    "rmse_train = list()\n",
    "rmse_val = list()\n",
    "\n",
    "for d in depth :\n",
    "    model = XGBRegressor(max_depth = d)\n",
    "    model.fit(x_train, y_train)\n",
    "    pred_train = model.predict(x_train)\n",
    "    pred_val = model.predict(x_valid)\n",
    "    train = mean_squared_error(y_train, pred_train, squared=False)\n",
    "    val = mean_squared_error(y_valid, pred_val, squared=False)\n",
    "    rmse_train.append(train)\n",
    "    rmse_val.append(val)\n",
    "\n",
    "plt.figure(figsize=(7,3.5))\n",
    "plt.plot(depth, rmse_train, label = 'training set')\n",
    "plt.plot(depth, rmse_val, label = 'validation set')\n",
    "plt.xlabel('max_dept parameter')\n",
    "plt.ylabel('RMSE')\n",
    "plt.legend()\n",
    "plt.show()"
   ]
  },
  {
   "cell_type": "markdown",
   "id": "998ae613",
   "metadata": {},
   "source": [
    "- n_estimator"
   ]
  },
  {
   "cell_type": "code",
   "execution_count": 30,
   "id": "afea9b0f",
   "metadata": {},
   "outputs": [
    {
     "data": {
      "image/png": "[encoded data removed]",
      "text/plain": [
       "<Figure size 700x350 with 1 Axes>"
      ]
     },
     "metadata": {},
     "output_type": "display_data"
    }
   ],
   "source": [
    "n_estimator = np.arange(0,1000,100)\n",
    "\n",
    "rmse_train = list()\n",
    "rmse_val = list()\n",
    "\n",
    "for n in n_estimator :\n",
    "    model = XGBRegressor(n_estimators = n)\n",
    "    model.fit(x_train, y_train)\n",
    "    pred_train = model.predict(x_train)\n",
    "    pred_val = model.predict(x_valid)\n",
    "    train = mean_squared_error(y_train, pred_train, squared=False)\n",
    "    val = mean_squared_error(y_valid, pred_val, squared=False)\n",
    "    rmse_train.append(train)\n",
    "    rmse_val.append(val)\n",
    "\n",
    "plt.figure(figsize=(7,3.5))\n",
    "plt.plot(n_estimator, rmse_train, label = 'training set')\n",
    "plt.plot(n_estimator, rmse_val, label = 'validation set')\n",
    "plt.xlabel('n_estimator parameter')\n",
    "plt.ylabel('RMSE')\n",
    "plt.legend()\n",
    "plt.show()"
   ]
  },
  {
   "cell_type": "markdown",
   "id": "c1d47e46",
   "metadata": {},
   "source": [
    "- learning rate"
   ]
  },
  {
   "cell_type": "code",
   "execution_count": 31,
   "id": "a0745418",
   "metadata": {},
   "outputs": [
    {
     "data": {
      "image/png": "[encoded data removed]",
      "text/plain": [
       "<Figure size 700x350 with 1 Axes>"
      ]
     },
     "metadata": {},
     "output_type": "display_data"
    }
   ],
   "source": [
    "lr = np.arange(0,1,0.05)\n",
    "\n",
    "rmse_train = list()\n",
    "rmse_val = list()\n",
    "\n",
    "for r in lr :\n",
    "    model = XGBRegressor(learning_rate = r)\n",
    "    model.fit(x_train, y_train)\n",
    "    pred_train = model.predict(x_train)\n",
    "    pred_val = model.predict(x_valid)\n",
    "    train = mean_squared_error(y_train, pred_train, squared=False)\n",
    "    val = mean_squared_error(y_valid, pred_val, squared=False)\n",
    "    rmse_train.append(train)\n",
    "    rmse_val.append(val)\n",
    "\n",
    "plt.figure(figsize=(7,3.5))\n",
    "plt.plot(lr, rmse_train, label = 'training set')\n",
    "plt.plot(lr, rmse_val, label = 'validation set')\n",
    "plt.xlabel('learning_rate parameter')\n",
    "plt.ylabel('RMSE')\n",
    "plt.legend()\n",
    "plt.show()"
   ]
  },
  {
   "cell_type": "code",
   "execution_count": 36,
   "id": "5c553a01",
   "metadata": {},
   "outputs": [
    {
     "name": "stdout",
     "output_type": "stream",
     "text": [
      "Best parameter : {'learning_rate': 0.15999999999999998, 'max_depth': 9, 'n_estimators': 200}\n",
      "Best RMSE = 0.48\n"
     ]
    }
   ],
   "source": [
    "xgb_param = {\"max_depth\": [7,8,9],\n",
    "              \"n_estimators\": [200],\n",
    "              \"learning_rate\": np.arange(0.1,0.2,0.01) }\n",
    "\n",
    "xgb_kf = KFold(n_splits = 5, shuffle=True, random_state = 123)\n",
    "xgb_grid = GridSearchCV(xgb, xgb_param, cv = xgb_kf, scoring = 'neg_root_mean_squared_error')\n",
    "tune_xgb = xgb_grid.fit(x_train,y_train)\n",
    "\n",
    "print('Best parameter :', tune_xgb.best_params_)\n",
    "print('Best RMSE = {:.2f}'.format( tune_xgb.best_score_ * -1 ))"
   ]
  },
  {
   "cell_type": "markdown",
   "id": "5375bd23",
   "metadata": {},
   "source": [
    "# Compare model"
   ]
  },
  {
   "cell_type": "code",
   "execution_count": 37,
   "id": "2af5dc30",
   "metadata": {},
   "outputs": [],
   "source": [
    "# model = {}\n",
    "\n",
    "# for model, params in model.items() :\n",
    "#     print('===')"
   ]
  }
 ],
 "metadata": {
  "kernelspec": {
   "display_name": "Python 3 (ipykernel)",
   "language": "python",
   "name": "python3"
  },
  "language_info": {
   "codemirror_mode": {
    "name": "ipython",
    "version": 3
   },
   "file_extension": ".py",
   "mimetype": "text/x-python",
   "name": "python",
   "nbconvert_exporter": "python",
   "pygments_lexer": "ipython3",
   "version": "3.10.9"
  }
 },
 "nbformat": 4,
 "nbformat_minor": 5
}
